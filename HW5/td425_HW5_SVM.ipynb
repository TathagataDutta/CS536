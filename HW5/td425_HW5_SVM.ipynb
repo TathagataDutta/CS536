{
 "cells": [
  {
   "cell_type": "markdown",
   "metadata": {},
   "source": [
    "### Import Libs"
   ]
  },
  {
   "cell_type": "code",
   "execution_count": 1,
   "metadata": {},
   "outputs": [],
   "source": [
    "import numpy as np\n",
    "from scipy import optimize"
   ]
  },
  {
   "cell_type": "markdown",
   "metadata": {},
   "source": [
    "### Create X and Y"
   ]
  },
  {
   "cell_type": "code",
   "execution_count": 2,
   "metadata": {},
   "outputs": [],
   "source": [
    "X=np.asarray([[1, 1], [-1, 1], [-1, -1], [1, -1]])\n",
    "Y=np.asarray([-1, 1, -1, 1])"
   ]
  },
  {
   "cell_type": "markdown",
   "metadata": {},
   "source": [
    "### The Dual SVM Classifier"
   ]
  },
  {
   "cell_type": "code",
   "execution_count": 3,
   "metadata": {},
   "outputs": [],
   "source": [
    "class DualSVM:    \n",
    "    def __init__(self, kernel):\n",
    "        self.kernel = kernel\n",
    "        self.alpha = None\n",
    "    \n",
    "    def fit(self, X, Y):\n",
    "        m = len(Y)\n",
    "        \n",
    "        # init alpha\n",
    "        self.alpha = np.asarray([0.25, 0.25, 0.25, 0.25])\n",
    "        \n",
    "        def obj_func(alpha, epsilon_t, X, Y, maximize_sign):\n",
    "            # this sum is w/o the log terms\n",
    "            obj_sum_part1 = 0\n",
    "            \n",
    "            # breaking into smaller sums for readability\n",
    "            sum1 = sum2 = sum3 = sum4a = sum4b = sum5 = 0\n",
    "\n",
    "            # skipping first term (as per given obj func)\n",
    "            # also alpha indexes reduced by 1 since passing alpha_2 to alpha_4\n",
    "            # (since we have to calc alpha_1 from these)\n",
    "            for i in range(1, m):\n",
    "                sum1 += alpha[i-1] * (Y[i] * Y[0])\n",
    "                sum2 += alpha[i-1]\n",
    "\n",
    "                sum3 += alpha[i-1] * (Y[i] * Y[0])\n",
    "                sum4a += alpha[i-1] * (Y[i] * Y[0])\n",
    "                #sum4b += alpha[i-1] * Y[i] * (np.dot(X[i], X[0]))\n",
    "                sum4b += alpha[i-1] * Y[i] * self.kernel(X[i], X[0])\n",
    "                \n",
    "                for j in range(1, m):\n",
    "                    #sum5 += alpha[i-1] * Y[i] * (np.dot(X[i], X[j])) * Y[j] * alpha[j-1]\n",
    "                    sum5 += alpha[i-1] * Y[i] * self.kernel(X[i], X[j]) * Y[j] * alpha[j-1]\n",
    "\n",
    "            sum1 = -sum1\n",
    "            #sum3 = pow(-sum3, 2) * np.dot(X[0], X[0])\n",
    "            sum3 = pow(-sum3, 2) * self.kernel(X[0], X[0])\n",
    "            sum4a = -sum4a\n",
    "\n",
    "            obj_sum_part1 = sum1 + sum2 - 0.5 * (sum3 + 2*(sum4a * Y[0] * sum4b) + sum5)\n",
    "            \n",
    "            # ===== 1st part done =====\n",
    "            \n",
    "            # this sum is the log terms\n",
    "            obj_sum_part2 = 0\n",
    "            sum6 = sum7 = 0\n",
    "            \n",
    "            for i in range(1, m):\n",
    "                # print(sum(alpha))\n",
    "                sum6 += np.log(alpha[i-1])\n",
    "                sum7 += alpha[i-1] * (Y[i] * Y[0])\n",
    "                \n",
    "            sum7 = np.log(-sum7)\n",
    "            \n",
    "            # ===== 2nd part done =====\n",
    "            \n",
    "            obj_sum_part2 = epsilon_t * (sum6 + sum7)\n",
    "            \n",
    "            return maximize_sign * (obj_sum_part1 + obj_sum_part2)\n",
    "            \n",
    "        # using this contraint to keep the first log term positive\n",
    "        def constraint1(alph):\n",
    "            return sum(alph) - 1e-8        \n",
    "        \n",
    "        cons1 = {'type': 'ineq', 'fun': constraint1}\n",
    "        \n",
    "        # tunable hyper parameters\n",
    "        # t = time instances\n",
    "        t = 1000\n",
    "        # epsilon tends to 0 w.r.t. to time 't'\n",
    "        epsilon_t_list = np.linspace(start=1e-2, stop=1e-8, num=t, endpoint=True)\n",
    "        \n",
    "        \n",
    "        for e_t in epsilon_t_list:            \n",
    "            # we are optimizing over alphas except the first one\n",
    "            # args has -1 in the end since we want to maximize\n",
    "            optimal_soln = optimize.minimize(fun = obj_func, \n",
    "                                             x0 = self.alpha[1:], \n",
    "                                             args = (e_t, X, Y, -1), \n",
    "                                             constraints = cons1, \n",
    "                                             method = 'SLSQP')\n",
    "            \n",
    "            # update alphas as given by the solver\n",
    "            self.alpha[1:] = optimal_soln.x\n",
    "            \n",
    "            # calculate alpha_1 using given formula\n",
    "            self.alpha[0] = -sum([self.alpha[k] * (Y[k] * Y[0]) for k in range(1,m)])\n",
    "        \n",
    "        # to calc. bias (not asked in question though)\n",
    "        postive_alpha_index = self.alpha > 1e-8\n",
    "        self.support_vector_X = X[postive_alpha_index]\n",
    "        self.support_vector_Y = Y[postive_alpha_index]\n",
    "        \n",
    "\n",
    "        # using equation 33 of Lecture notes \"Worked SVMs ...\"\n",
    "        self.b = self.support_vector_Y[0] - sum([self.alpha[j] * Y[j] * \\\n",
    "                                              self.kernel(X[j], self.support_vector_X[0]) for j in range(m)])\n",
    "            \n",
    "          \n",
    "        # ==================================== END OF FIT ====================================\n",
    "    \n",
    "        \n",
    "        \n",
    "    \n",
    "    # using equation 34 of Lecture notes \"Worked SVMs ...\"\n",
    "    def predict(self, X):\n",
    "        m = np.shape(X)[0]\n",
    "        return np.sign(sum([self.alpha[i] * self.support_vector_Y[i] * self.kernel(self.support_vector_X[i], X) \\\n",
    "                            + self.b for i in range(m)]))"
   ]
  },
  {
   "cell_type": "markdown",
   "metadata": {},
   "source": [
    "### The Kernel Function"
   ]
  },
  {
   "cell_type": "code",
   "execution_count": 4,
   "metadata": {},
   "outputs": [],
   "source": [
    "def polyKernel(x, y):\n",
    "    return pow(1 + np.dot(x, y), 2)"
   ]
  },
  {
   "cell_type": "code",
   "execution_count": 5,
   "metadata": {},
   "outputs": [
    {
     "name": "stderr",
     "output_type": "stream",
     "text": [
      "C:\\ProgramData\\Anaconda3\\lib\\site-packages\\ipykernel_launcher.py:50: RuntimeWarning: invalid value encountered in log\n",
      "C:\\ProgramData\\Anaconda3\\lib\\site-packages\\ipykernel_launcher.py:53: RuntimeWarning: invalid value encountered in log\n"
     ]
    }
   ],
   "source": [
    "# Create model\n",
    "svm_model = DualSVM(kernel=polyKernel)\n",
    "\n",
    "# Train model\n",
    "svm_model.fit(X, Y)"
   ]
  },
  {
   "cell_type": "code",
   "execution_count": null,
   "metadata": {},
   "outputs": [],
   "source": []
  },
  {
   "cell_type": "code",
   "execution_count": 6,
   "metadata": {},
   "outputs": [
    {
     "data": {
      "text/plain": [
       "array([0.12499954, 0.12503677, 0.125074  , 0.12503677])"
      ]
     },
     "execution_count": 6,
     "metadata": {},
     "output_type": "execute_result"
    }
   ],
   "source": [
    "# alpha values\n",
    "svm_model.alpha"
   ]
  },
  {
   "cell_type": "code",
   "execution_count": 7,
   "metadata": {},
   "outputs": [
    {
     "data": {
      "text/plain": [
       "-3.709480115521302e-06"
      ]
     },
     "execution_count": 7,
     "metadata": {},
     "output_type": "execute_result"
    }
   ],
   "source": [
    "# bias value\n",
    "svm_model.b"
   ]
  },
  {
   "cell_type": "code",
   "execution_count": 8,
   "metadata": {},
   "outputs": [
    {
     "data": {
      "text/plain": [
       "array([[ 1,  1],\n",
       "       [-1,  1],\n",
       "       [-1, -1],\n",
       "       [ 1, -1]])"
      ]
     },
     "execution_count": 8,
     "metadata": {},
     "output_type": "execute_result"
    }
   ],
   "source": [
    "svm_model.support_vector_X"
   ]
  },
  {
   "cell_type": "code",
   "execution_count": 9,
   "metadata": {},
   "outputs": [
    {
     "data": {
      "text/plain": [
       "array([-1,  1, -1,  1])"
      ]
     },
     "execution_count": 9,
     "metadata": {},
     "output_type": "execute_result"
    }
   ],
   "source": [
    "svm_model.support_vector_Y"
   ]
  },
  {
   "cell_type": "code",
   "execution_count": 10,
   "metadata": {},
   "outputs": [
    {
     "data": {
      "text/plain": [
       "-3.709480115521302e-06"
      ]
     },
     "execution_count": 10,
     "metadata": {},
     "output_type": "execute_result"
    }
   ],
   "source": [
    "# bias value\n",
    "svm_model.b"
   ]
  },
  {
   "cell_type": "code",
   "execution_count": null,
   "metadata": {},
   "outputs": [],
   "source": []
  },
  {
   "cell_type": "code",
   "execution_count": null,
   "metadata": {},
   "outputs": [],
   "source": []
  },
  {
   "cell_type": "code",
   "execution_count": 10,
   "metadata": {},
   "outputs": [
    {
     "name": "stdout",
     "output_type": "stream",
     "text": [
      "-1.0\n",
      "1.0\n",
      "1.0\n",
      "1.0\n"
     ]
    }
   ],
   "source": [
    "print(svm_model.predict([1, 1]))\n",
    "print(svm_model.predict([-1, 1]))\n",
    "print(svm_model.predict([-1, -1]))\n",
    "print(svm_model.predict([1, -1]))"
   ]
  },
  {
   "cell_type": "code",
   "execution_count": null,
   "metadata": {},
   "outputs": [],
   "source": []
  }
 ],
 "metadata": {
  "kernelspec": {
   "display_name": "Python 3",
   "language": "python",
   "name": "python3"
  },
  "language_info": {
   "codemirror_mode": {
    "name": "ipython",
    "version": 3
   },
   "file_extension": ".py",
   "mimetype": "text/x-python",
   "name": "python",
   "nbconvert_exporter": "python",
   "pygments_lexer": "ipython3",
   "version": "3.7.6"
  }
 },
 "nbformat": 4,
 "nbformat_minor": 4
}
