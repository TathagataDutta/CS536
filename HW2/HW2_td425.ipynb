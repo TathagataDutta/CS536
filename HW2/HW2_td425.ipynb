{
 "cells": [
  {
   "cell_type": "markdown",
   "metadata": {},
   "source": [
    "# 1 Generating Decision Trees"
   ]
  },
  {
   "cell_type": "markdown",
   "metadata": {},
   "source": [
    "## Import Libs"
   ]
  },
  {
   "cell_type": "code",
   "execution_count": 107,
   "metadata": {},
   "outputs": [],
   "source": [
    "import numpy as np\n",
    "import secrets\n",
    "import pandas as pd\n",
    "import matplotlib.pyplot as plt\n",
    "from timeit import default_timer as timer\n",
    "%matplotlib inline"
   ]
  },
  {
   "cell_type": "code",
   "execution_count": 3,
   "metadata": {},
   "outputs": [],
   "source": [
    "# Global Vars\n",
    "EPS = np.finfo(float).eps\n",
    "#EPS here is the smallest representable number. At times we get log(0) or 0 in the denominator, to avoid that we are going to use this."
   ]
  },
  {
   "cell_type": "code",
   "execution_count": 4,
   "metadata": {},
   "outputs": [],
   "source": [
    "# Generate secure random (not pseudo random) value between 0 and 1\n",
    "def RNG_Prob():                     \n",
    "    secGen=secrets.SystemRandom()   # secret generator\n",
    "    n=secGen.random()\n",
    "    return n"
   ]
  },
  {
   "cell_type": "markdown",
   "metadata": {},
   "source": [
    "## Answer to Question 1.1"
   ]
  },
  {
   "cell_type": "markdown",
   "metadata": {},
   "source": [
    "### Generate X, Y and w(weight) values"
   ]
  },
  {
   "cell_type": "code",
   "execution_count": 5,
   "metadata": {},
   "outputs": [],
   "source": [
    "# generate m datapoints with k features each\n",
    "def gen_X(k,m):\n",
    "    pass\n",
    "\n",
    "    # init. required 2D array i.e. our data points with features as empty\n",
    "    X=np.empty((m,k)).astype(int)\n",
    "    \n",
    "    for i in range(m):\n",
    "        # setting first feature \n",
    "        if(RNG_Prob()<0.5):\n",
    "            X[i][0]=1\n",
    "        else:\n",
    "            X[i][0]=0\n",
    "        \n",
    "        # setting subsequent features\n",
    "        for j in range(1,k):\n",
    "            if(RNG_Prob()<0.75):\n",
    "                X[i][j]=X[i][j-1]\n",
    "            else:\n",
    "                X[i][j]=1-X[i][j-1]\n",
    "    return X\n",
    "\n",
    "\n",
    "# generate weights corresponding to the features\n",
    "def gen_w(k):\n",
    "    pass\n",
    "\n",
    "    # init. weight vector as empty 1D array\n",
    "    w=np.empty((k))\n",
    "    \n",
    "    # calculate the denominator separately\n",
    "    deno=0\n",
    "    for i in range(2,k+1):\n",
    "        deno+=pow(0.9,i)\n",
    "    \n",
    "    # setting weight values as per the given formula\n",
    "    for i in range(1,k+1):\n",
    "        w[i-1]=(pow(0.9,i))/deno\n",
    "    return w\n",
    "\n",
    "\n",
    "# generate the output column values from X and w\n",
    "def gen_Y(k,m,X,w):\n",
    "    pass\n",
    "\n",
    "    # init. Y with as empty 1D array; each Y corresponds to each data point\n",
    "    Y=np.empty((m)).astype(int)\n",
    "    \n",
    "    # setting up Y values as per the given function\n",
    "    for i in range(m):\n",
    "        val=0\n",
    "        for j in range(1,k):\n",
    "            val+=X[i][j]*w[j]\n",
    "        if(val>=0.5):\n",
    "            Y[i]=X[i][0]\n",
    "        else:\n",
    "            Y[i]=1-X[i][0]\n",
    "    return Y"
   ]
  },
  {
   "cell_type": "markdown",
   "metadata": {},
   "source": [
    "### Generate combined Dataset"
   ]
  },
  {
   "cell_type": "code",
   "execution_count": 6,
   "metadata": {},
   "outputs": [],
   "source": [
    "# generating the complete dataset having Xs and Y\n",
    "def gen_dataset(k,m):\n",
    "    pass\n",
    "    X=gen_X(k,m)\n",
    "    w=gen_w(k)\n",
    "    Y=gen_Y(k,m,X,w)\n",
    "    \n",
    "    # row index for X and Y\n",
    "    rows=[]\n",
    "    for i in range(m):\n",
    "        rows.append(\"DataPoint \"+str(i+1))\n",
    "        \n",
    "    # column header for X\n",
    "    X_header=[]\n",
    "    for i in range(k):\n",
    "        X_header.append(\"X\"+str(i+1))\n",
    "        \n",
    "    # creating corresponding DataFrames for X and Y\n",
    "    X_df=pd.DataFrame(data=X, index=rows, columns=X_header)\n",
    "    Y_df=pd.DataFrame(data=Y, index=rows, columns=[\"Y\"])\n",
    "    \n",
    "    # merging the DataFrames\n",
    "    dataset=X_df.merge(Y_df,left_index=True, right_index=True)\n",
    "    return dataset"
   ]
  },
  {
   "cell_type": "code",
   "execution_count": 7,
   "metadata": {},
   "outputs": [
    {
     "data": {
      "text/html": [
       "<div>\n",
       "<style scoped>\n",
       "    .dataframe tbody tr th:only-of-type {\n",
       "        vertical-align: middle;\n",
       "    }\n",
       "\n",
       "    .dataframe tbody tr th {\n",
       "        vertical-align: top;\n",
       "    }\n",
       "\n",
       "    .dataframe thead th {\n",
       "        text-align: right;\n",
       "    }\n",
       "</style>\n",
       "<table border=\"1\" class=\"dataframe\">\n",
       "  <thead>\n",
       "    <tr style=\"text-align: right;\">\n",
       "      <th></th>\n",
       "      <th>X1</th>\n",
       "      <th>X2</th>\n",
       "      <th>X3</th>\n",
       "      <th>X4</th>\n",
       "      <th>Y</th>\n",
       "    </tr>\n",
       "  </thead>\n",
       "  <tbody>\n",
       "    <tr>\n",
       "      <th>DataPoint 1</th>\n",
       "      <td>1</td>\n",
       "      <td>1</td>\n",
       "      <td>1</td>\n",
       "      <td>1</td>\n",
       "      <td>1</td>\n",
       "    </tr>\n",
       "    <tr>\n",
       "      <th>DataPoint 2</th>\n",
       "      <td>1</td>\n",
       "      <td>1</td>\n",
       "      <td>1</td>\n",
       "      <td>1</td>\n",
       "      <td>1</td>\n",
       "    </tr>\n",
       "    <tr>\n",
       "      <th>DataPoint 3</th>\n",
       "      <td>1</td>\n",
       "      <td>1</td>\n",
       "      <td>1</td>\n",
       "      <td>1</td>\n",
       "      <td>1</td>\n",
       "    </tr>\n",
       "    <tr>\n",
       "      <th>DataPoint 4</th>\n",
       "      <td>0</td>\n",
       "      <td>0</td>\n",
       "      <td>0</td>\n",
       "      <td>0</td>\n",
       "      <td>1</td>\n",
       "    </tr>\n",
       "    <tr>\n",
       "      <th>DataPoint 5</th>\n",
       "      <td>1</td>\n",
       "      <td>1</td>\n",
       "      <td>1</td>\n",
       "      <td>1</td>\n",
       "      <td>1</td>\n",
       "    </tr>\n",
       "    <tr>\n",
       "      <th>DataPoint 6</th>\n",
       "      <td>0</td>\n",
       "      <td>1</td>\n",
       "      <td>1</td>\n",
       "      <td>0</td>\n",
       "      <td>0</td>\n",
       "    </tr>\n",
       "    <tr>\n",
       "      <th>DataPoint 7</th>\n",
       "      <td>1</td>\n",
       "      <td>0</td>\n",
       "      <td>0</td>\n",
       "      <td>0</td>\n",
       "      <td>0</td>\n",
       "    </tr>\n",
       "    <tr>\n",
       "      <th>DataPoint 8</th>\n",
       "      <td>0</td>\n",
       "      <td>0</td>\n",
       "      <td>0</td>\n",
       "      <td>0</td>\n",
       "      <td>1</td>\n",
       "    </tr>\n",
       "    <tr>\n",
       "      <th>DataPoint 9</th>\n",
       "      <td>0</td>\n",
       "      <td>0</td>\n",
       "      <td>0</td>\n",
       "      <td>1</td>\n",
       "      <td>1</td>\n",
       "    </tr>\n",
       "    <tr>\n",
       "      <th>DataPoint 10</th>\n",
       "      <td>1</td>\n",
       "      <td>1</td>\n",
       "      <td>1</td>\n",
       "      <td>0</td>\n",
       "      <td>1</td>\n",
       "    </tr>\n",
       "    <tr>\n",
       "      <th>DataPoint 11</th>\n",
       "      <td>1</td>\n",
       "      <td>1</td>\n",
       "      <td>1</td>\n",
       "      <td>1</td>\n",
       "      <td>1</td>\n",
       "    </tr>\n",
       "    <tr>\n",
       "      <th>DataPoint 12</th>\n",
       "      <td>1</td>\n",
       "      <td>0</td>\n",
       "      <td>0</td>\n",
       "      <td>1</td>\n",
       "      <td>0</td>\n",
       "    </tr>\n",
       "    <tr>\n",
       "      <th>DataPoint 13</th>\n",
       "      <td>1</td>\n",
       "      <td>1</td>\n",
       "      <td>1</td>\n",
       "      <td>1</td>\n",
       "      <td>1</td>\n",
       "    </tr>\n",
       "    <tr>\n",
       "      <th>DataPoint 14</th>\n",
       "      <td>0</td>\n",
       "      <td>0</td>\n",
       "      <td>0</td>\n",
       "      <td>0</td>\n",
       "      <td>1</td>\n",
       "    </tr>\n",
       "    <tr>\n",
       "      <th>DataPoint 15</th>\n",
       "      <td>1</td>\n",
       "      <td>1</td>\n",
       "      <td>1</td>\n",
       "      <td>1</td>\n",
       "      <td>1</td>\n",
       "    </tr>\n",
       "    <tr>\n",
       "      <th>DataPoint 16</th>\n",
       "      <td>1</td>\n",
       "      <td>1</td>\n",
       "      <td>0</td>\n",
       "      <td>0</td>\n",
       "      <td>0</td>\n",
       "    </tr>\n",
       "    <tr>\n",
       "      <th>DataPoint 17</th>\n",
       "      <td>1</td>\n",
       "      <td>0</td>\n",
       "      <td>1</td>\n",
       "      <td>0</td>\n",
       "      <td>0</td>\n",
       "    </tr>\n",
       "    <tr>\n",
       "      <th>DataPoint 18</th>\n",
       "      <td>1</td>\n",
       "      <td>1</td>\n",
       "      <td>1</td>\n",
       "      <td>1</td>\n",
       "      <td>1</td>\n",
       "    </tr>\n",
       "    <tr>\n",
       "      <th>DataPoint 19</th>\n",
       "      <td>0</td>\n",
       "      <td>1</td>\n",
       "      <td>1</td>\n",
       "      <td>1</td>\n",
       "      <td>0</td>\n",
       "    </tr>\n",
       "    <tr>\n",
       "      <th>DataPoint 20</th>\n",
       "      <td>1</td>\n",
       "      <td>1</td>\n",
       "      <td>1</td>\n",
       "      <td>1</td>\n",
       "      <td>1</td>\n",
       "    </tr>\n",
       "    <tr>\n",
       "      <th>DataPoint 21</th>\n",
       "      <td>1</td>\n",
       "      <td>1</td>\n",
       "      <td>0</td>\n",
       "      <td>0</td>\n",
       "      <td>0</td>\n",
       "    </tr>\n",
       "    <tr>\n",
       "      <th>DataPoint 22</th>\n",
       "      <td>1</td>\n",
       "      <td>1</td>\n",
       "      <td>0</td>\n",
       "      <td>1</td>\n",
       "      <td>1</td>\n",
       "    </tr>\n",
       "    <tr>\n",
       "      <th>DataPoint 23</th>\n",
       "      <td>1</td>\n",
       "      <td>1</td>\n",
       "      <td>1</td>\n",
       "      <td>1</td>\n",
       "      <td>1</td>\n",
       "    </tr>\n",
       "    <tr>\n",
       "      <th>DataPoint 24</th>\n",
       "      <td>0</td>\n",
       "      <td>0</td>\n",
       "      <td>0</td>\n",
       "      <td>0</td>\n",
       "      <td>1</td>\n",
       "    </tr>\n",
       "    <tr>\n",
       "      <th>DataPoint 25</th>\n",
       "      <td>1</td>\n",
       "      <td>1</td>\n",
       "      <td>1</td>\n",
       "      <td>0</td>\n",
       "      <td>1</td>\n",
       "    </tr>\n",
       "    <tr>\n",
       "      <th>DataPoint 26</th>\n",
       "      <td>1</td>\n",
       "      <td>0</td>\n",
       "      <td>1</td>\n",
       "      <td>1</td>\n",
       "      <td>1</td>\n",
       "    </tr>\n",
       "    <tr>\n",
       "      <th>DataPoint 27</th>\n",
       "      <td>1</td>\n",
       "      <td>1</td>\n",
       "      <td>1</td>\n",
       "      <td>1</td>\n",
       "      <td>1</td>\n",
       "    </tr>\n",
       "    <tr>\n",
       "      <th>DataPoint 28</th>\n",
       "      <td>0</td>\n",
       "      <td>0</td>\n",
       "      <td>0</td>\n",
       "      <td>0</td>\n",
       "      <td>1</td>\n",
       "    </tr>\n",
       "    <tr>\n",
       "      <th>DataPoint 29</th>\n",
       "      <td>0</td>\n",
       "      <td>0</td>\n",
       "      <td>0</td>\n",
       "      <td>0</td>\n",
       "      <td>1</td>\n",
       "    </tr>\n",
       "    <tr>\n",
       "      <th>DataPoint 30</th>\n",
       "      <td>1</td>\n",
       "      <td>1</td>\n",
       "      <td>1</td>\n",
       "      <td>1</td>\n",
       "      <td>1</td>\n",
       "    </tr>\n",
       "  </tbody>\n",
       "</table>\n",
       "</div>"
      ],
      "text/plain": [
       "              X1  X2  X3  X4  Y\n",
       "DataPoint 1    1   1   1   1  1\n",
       "DataPoint 2    1   1   1   1  1\n",
       "DataPoint 3    1   1   1   1  1\n",
       "DataPoint 4    0   0   0   0  1\n",
       "DataPoint 5    1   1   1   1  1\n",
       "DataPoint 6    0   1   1   0  0\n",
       "DataPoint 7    1   0   0   0  0\n",
       "DataPoint 8    0   0   0   0  1\n",
       "DataPoint 9    0   0   0   1  1\n",
       "DataPoint 10   1   1   1   0  1\n",
       "DataPoint 11   1   1   1   1  1\n",
       "DataPoint 12   1   0   0   1  0\n",
       "DataPoint 13   1   1   1   1  1\n",
       "DataPoint 14   0   0   0   0  1\n",
       "DataPoint 15   1   1   1   1  1\n",
       "DataPoint 16   1   1   0   0  0\n",
       "DataPoint 17   1   0   1   0  0\n",
       "DataPoint 18   1   1   1   1  1\n",
       "DataPoint 19   0   1   1   1  0\n",
       "DataPoint 20   1   1   1   1  1\n",
       "DataPoint 21   1   1   0   0  0\n",
       "DataPoint 22   1   1   0   1  1\n",
       "DataPoint 23   1   1   1   1  1\n",
       "DataPoint 24   0   0   0   0  1\n",
       "DataPoint 25   1   1   1   0  1\n",
       "DataPoint 26   1   0   1   1  1\n",
       "DataPoint 27   1   1   1   1  1\n",
       "DataPoint 28   0   0   0   0  1\n",
       "DataPoint 29   0   0   0   0  1\n",
       "DataPoint 30   1   1   1   1  1"
      ]
     },
     "execution_count": 7,
     "metadata": {},
     "output_type": "execute_result"
    }
   ],
   "source": [
    "# init and test with given k and m values\n",
    "k=4\n",
    "m=30\n",
    "dataset=gen_dataset(k,m)\n",
    "dataset"
   ]
  },
  {
   "cell_type": "code",
   "execution_count": null,
   "metadata": {},
   "outputs": [],
   "source": []
  },
  {
   "cell_type": "markdown",
   "metadata": {},
   "source": [
    "## Answer to Question 1.2"
   ]
  },
  {
   "cell_type": "code",
   "execution_count": 8,
   "metadata": {},
   "outputs": [],
   "source": [
    "# to find H(Y)\n",
    "def get_entropy(data):\n",
    "    # Taking the last column key (Y column)\n",
    "    output=data.keys()[-1]\n",
    "    entropy_Y=0\n",
    "    \n",
    "    # Taking unique values of Y\n",
    "    output_vals=data[output].unique()\n",
    "\n",
    "    #calc. entropy\n",
    "    for val in output_vals:\n",
    "        p_i=data[output].value_counts()[val]/len(data[output])\n",
    "        entropy_Y+=-p_i*np.log2(p_i)\n",
    "        \n",
    "    return entropy_Y"
   ]
  },
  {
   "cell_type": "code",
   "execution_count": 9,
   "metadata": {},
   "outputs": [],
   "source": [
    "# to find H(Y|X)\n",
    "def get_entropy_attr(data,feature):\n",
    "    # Taking the last column key (Y column)\n",
    "    output=data.keys()[-1]\n",
    "    \n",
    "    # Taking unique values of Y\n",
    "    output_vals=data[output].unique()\n",
    "    \n",
    "    # Taking unique values of X_i\n",
    "    feature_vals=data[feature].unique()\n",
    "    entropy_Y_X=0\n",
    "\n",
    "    for x_val in feature_vals:\n",
    "        entropy=0\n",
    "        for y_val in output_vals:\n",
    "            # calc. the number of data points that satisfy the feature and output values.\n",
    "            numer=len(data[feature][data[feature]==x_val][data[output]==y_val])\n",
    "            \n",
    "            # calc. the total number of data points having feature as 0 or 1\n",
    "            denom=len(data[feature][data[feature]==x_val])\n",
    "            \n",
    "            p_i=numer/(denom+EPS)\n",
    "            entropy+=-(p_i)*np.log2(p_i+EPS)\n",
    "        entropy_Y_X+=-(denom/len(data))*entropy\n",
    "\n",
    "    return abs(entropy_Y_X)"
   ]
  },
  {
   "cell_type": "code",
   "execution_count": 10,
   "metadata": {},
   "outputs": [],
   "source": [
    "# IG(X) = H(Y) - H(Y|X)\n",
    "def IG_partition(data):\n",
    "    IG=[]\n",
    "    \n",
    "    # For all X_i\n",
    "    for key in data.keys()[:-1]:\n",
    "        IG.append(get_entropy(data)-get_entropy_attr(data,key))\n",
    "\n",
    "    return data.keys()[:-1][np.argmax(IG)]"
   ]
  },
  {
   "cell_type": "code",
   "execution_count": 11,
   "metadata": {},
   "outputs": [],
   "source": [
    "def get_subtree(data,node,value):\n",
    "    return data[data[node]==value]"
   ]
  },
  {
   "cell_type": "code",
   "execution_count": 12,
   "metadata": {},
   "outputs": [],
   "source": [
    "def ID3_build_tree(data,tree=None):\n",
    "    # Taking the last column key (Y column)\n",
    "    output=data.keys()[-1]\n",
    "    \n",
    "    # partitioning based on node with max IG\n",
    "    node=IG_partition(data)\n",
    "    \n",
    "    # Taking unique values of X_i\n",
    "    feature_vals=data[node].unique()\n",
    "\n",
    "    if tree is None:\n",
    "        tree={}\n",
    "        tree[node]={}\n",
    "\n",
    "    for x_val in feature_vals:\n",
    "        #get subtrees\n",
    "        subtree=get_subtree(data,node,x_val)\n",
    "        \n",
    "        #get unique output values and its respective count\n",
    "        output_val,output_counts=np.unique(subtree[subtree.keys()[-1]],return_counts=True)\n",
    "        \n",
    "        #if pure (==1 since we used .unique())\n",
    "        if (len(output_counts)==1):\n",
    "            tree[node][x_val]=output_val[0]\n",
    "        #recursively create subtrees\n",
    "        else:\n",
    "            tree[node][x_val]=ID3_build_tree(subtree)        \n",
    "\n",
    "    return tree"
   ]
  },
  {
   "cell_type": "code",
   "execution_count": 13,
   "metadata": {},
   "outputs": [],
   "source": [
    "def fit2(row,tree):\n",
    "    for node in tree.keys():\n",
    "        value=row[node]\n",
    "        tree=tree[node][value]\n",
    "        prediction=0\n",
    "        \n",
    "        #if not empty\n",
    "        #if type(tree) is dict:\n",
    "        if isinstance(tree, dict):\n",
    "            prediction=fit2(row, tree)\n",
    "        else:\n",
    "            prediction=tree\n",
    "            break\n",
    "\n",
    "    return prediction"
   ]
  },
  {
   "cell_type": "code",
   "execution_count": 14,
   "metadata": {},
   "outputs": [],
   "source": [
    "def fit(data,tree):\n",
    "    avg_err=0\n",
    "    for i in range(len(data)):\n",
    "        prediction=fit2(data.iloc[i], tree)\n",
    "        \n",
    "        #if prediction is equal to Y val.\n",
    "        if prediction!=data.iloc[i][-1]:\n",
    "            avg_err+=1\n",
    "    \n",
    "    #calc. avg error\n",
    "    avg_err/=len(data)\n",
    "    \n",
    "    return avg_err"
   ]
  },
  {
   "cell_type": "markdown",
   "metadata": {},
   "source": [
    "## Answer to Question 1.3"
   ]
  },
  {
   "cell_type": "code",
   "execution_count": 14,
   "metadata": {},
   "outputs": [],
   "source": [
    "# init. k and m values to create dataset\n",
    "k=4\n",
    "m=30\n",
    "dataset=gen_dataset(k,m)"
   ]
  },
  {
   "cell_type": "code",
   "execution_count": 41,
   "metadata": {},
   "outputs": [
    {
     "data": {
      "text/plain": [
       "{'X3': {0: {'X1': {1: {'X4': {1: {'X2': {1: 1, 0: 0}}, 0: 0}},\n",
       "    0: {'X2': {1: {'X4': {1: 0, 0: 1}}, 0: 1}}}},\n",
       "  1: {'X1': {1: 1, 0: 0}}}}"
      ]
     },
     "execution_count": 41,
     "metadata": {},
     "output_type": "execute_result"
    }
   ],
   "source": [
    "#build tree with ID3 algo.\n",
    "tree = ID3_build_tree(dataset)\n",
    "tree"
   ]
  },
  {
   "cell_type": "code",
   "execution_count": 42,
   "metadata": {},
   "outputs": [
    {
     "data": {
      "text/plain": [
       "0.0"
      ]
     },
     "execution_count": 42,
     "metadata": {},
     "output_type": "execute_result"
    }
   ],
   "source": [
    "err = fit(dataset, tree)\n",
    "err"
   ]
  },
  {
   "cell_type": "markdown",
   "metadata": {},
   "source": [
    "## Answer to Question 1.4"
   ]
  },
  {
   "cell_type": "code",
   "execution_count": 15,
   "metadata": {},
   "outputs": [],
   "source": [
    "def get_typ_err(tree,k,m,MAX_ITER):\n",
    "    typ_err=0\n",
    "    for i in range(MAX_ITER):\n",
    "        data=gen_dataset(k,m)\n",
    "        typ_err+=fit(data,tree)\n",
    "\n",
    "    typ_err=typ_err/MAX_ITER\n",
    "    return typ_err"
   ]
  },
  {
   "cell_type": "code",
   "execution_count": 16,
   "metadata": {},
   "outputs": [
    {
     "ename": "NameError",
     "evalue": "name 'tree' is not defined",
     "output_type": "error",
     "traceback": [
      "\u001b[1;31m---------------------------------------------------------------------------\u001b[0m",
      "\u001b[1;31mNameError\u001b[0m                                 Traceback (most recent call last)",
      "\u001b[1;32m<ipython-input-16-de2f0b8b751b>\u001b[0m in \u001b[0;36m<module>\u001b[1;34m\u001b[0m\n\u001b[1;32m----> 1\u001b[1;33m \u001b[0mtyp_err\u001b[0m\u001b[1;33m=\u001b[0m\u001b[0mget_typ_err\u001b[0m\u001b[1;33m(\u001b[0m\u001b[0mtree\u001b[0m\u001b[1;33m,\u001b[0m \u001b[0mk\u001b[0m\u001b[1;33m,\u001b[0m \u001b[0mm\u001b[0m\u001b[1;33m,\u001b[0m \u001b[1;36m1000\u001b[0m\u001b[1;33m)\u001b[0m\u001b[1;33m\u001b[0m\u001b[1;33m\u001b[0m\u001b[0m\n\u001b[0m\u001b[0;32m      2\u001b[0m \u001b[0mtyp_err\u001b[0m\u001b[1;33m\u001b[0m\u001b[1;33m\u001b[0m\u001b[0m\n",
      "\u001b[1;31mNameError\u001b[0m: name 'tree' is not defined"
     ]
    }
   ],
   "source": [
    "typ_err=get_typ_err(tree, k, m, 1000)\n",
    "typ_err"
   ]
  },
  {
   "cell_type": "markdown",
   "metadata": {},
   "source": [
    "## Answer to Question 1.5"
   ]
  },
  {
   "cell_type": "code",
   "execution_count": 17,
   "metadata": {},
   "outputs": [],
   "source": [
    "# Simulation for diff. values (list) of m\n",
    "def gen_ds_sim(k,m):\n",
    "    #error list\n",
    "    err_ls=[]\n",
    "    for val in m:\n",
    "        dataset=gen_dataset(k, val)\n",
    "        tree=ID3_build_tree(dataset)\n",
    "        train_err=fit(dataset, tree)\n",
    "        typ_err=get_typ_err(tree, k,val,50)\n",
    "        err_ls.append(abs(train_err-typ_err))\n",
    "    plt.plot(m,err_ls)\n",
    "    plt.xlabel(\"m: No. of datapoints\")\n",
    "    plt.ylabel(\"Absolute diff. between training and typical error\")\n",
    "    plt.title(\"Plot for difference of error as a function of m\")\n",
    "    plt.show()\n",
    "    return err_ls,m"
   ]
  },
  {
   "cell_type": "code",
   "execution_count": 46,
   "metadata": {},
   "outputs": [
    {
     "data": {
      "image/png": "[encoded data removed]",
      "text/plain": [
       "<Figure size 432x288 with 1 Axes>"
      ]
     },
     "metadata": {
      "needs_background": "light"
     },
     "output_type": "display_data"
    }
   ],
   "source": [
    "k=10\n",
    "m_list=list(range(10,401,20))\n",
    "err_ID3,m_ID3=gen_ds_sim(k,m_list)"
   ]
  },
  {
   "cell_type": "markdown",
   "metadata": {},
   "source": [
    "## Answer to Question 1.6"
   ]
  },
  {
   "cell_type": "code",
   "execution_count": 16,
   "metadata": {},
   "outputs": [],
   "source": [
    "def get_gini_w(data,feature):\n",
    "    # Taking the last column key (Y column)\n",
    "    output=data.keys()[-1] \n",
    "    \n",
    "    # Taking unique values of Y\n",
    "    output_vals=data[output].unique()\n",
    "    \n",
    "    # Taking unique values of X_i\n",
    "    feature_vals=data[feature].unique()\n",
    "    \n",
    "    gini_w=0\n",
    "    for x_val in feature_vals:\n",
    "        gini = 1\n",
    "        for y_val in output_vals:\n",
    "            # calc. the number of data points that satisfy the feature and output values.\n",
    "            numer=len(data[feature][data[feature]==x_val][data[output]==y_val])\n",
    "            \n",
    "            # calc. the total number of data points having feature as 0 or 1\n",
    "            denom=len(data[feature][data[feature]==x_val])\n",
    "            p_i=numer/(denom+EPS) \n",
    "            gini-=pow(p_i,2)\n",
    "        gini_w+=(denom/len(data))*gini\n",
    "\n",
    "    return gini_w"
   ]
  },
  {
   "cell_type": "code",
   "execution_count": 17,
   "metadata": {},
   "outputs": [],
   "source": [
    "def gini_partition(data):\n",
    "    gini=[]\n",
    "    # For each X_i\n",
    "    for key in data.keys()[:-1]:\n",
    "        gini.append(get_gini_w(data,key))\n",
    "\n",
    "    return data.keys()[:-1][np.argmin(gini)]"
   ]
  },
  {
   "cell_type": "code",
   "execution_count": 18,
   "metadata": {},
   "outputs": [],
   "source": [
    "def gini_build_tree(data, tree=None):\n",
    "    # Taking the last column key (Y column)\n",
    "    output=data.keys()[-1]\n",
    "\n",
    "    # partitioning based on node with max gini index\n",
    "    node=gini_partition(data)\n",
    "    \n",
    "    # Taking unique values of X_i\n",
    "    feature_vals=data[node].unique()\n",
    "\n",
    "    #if doesn't exist, create empty dict.\n",
    "    if tree is None:\n",
    "        tree={}\n",
    "        tree[node]={}\n",
    "\n",
    "    for x_val in feature_vals:\n",
    "        #get subtrees\n",
    "        subtree=get_subtree(data,node,x_val)\n",
    "        \n",
    "        #if pure (==1 since we used .unique())\n",
    "        output_val,output_counts=np.unique(subtree[subtree.keys()[-1]],return_counts=True)\n",
    "        \n",
    "        #if pure (==1 since we used .unique())\n",
    "        if len(output_counts)==1:\n",
    "            tree[node][x_val]=output_val[0]\n",
    "        #recursively create subtrees\n",
    "        else:\n",
    "            tree[node][x_val]=gini_build_tree(subtree)        \n",
    "\n",
    "    return tree "
   ]
  },
  {
   "cell_type": "code",
   "execution_count": 50,
   "metadata": {},
   "outputs": [
    {
     "data": {
      "text/plain": [
       "{'X3': {0: {'X1': {1: {'X4': {1: {'X2': {1: 1, 0: 0}}, 0: 0}},\n",
       "    0: {'X2': {1: {'X4': {1: 0, 0: 1}}, 0: 1}}}},\n",
       "  1: {'X1': {1: 1, 0: 0}}}}"
      ]
     },
     "execution_count": 50,
     "metadata": {},
     "output_type": "execute_result"
    }
   ],
   "source": [
    "tree_gini=gini_build_tree(dataset)\n",
    "tree_gini"
   ]
  },
  {
   "cell_type": "code",
   "execution_count": 51,
   "metadata": {},
   "outputs": [
    {
     "data": {
      "text/plain": [
       "0.0"
      ]
     },
     "execution_count": 51,
     "metadata": {},
     "output_type": "execute_result"
    }
   ],
   "source": [
    "err=fit(dataset,tree_gini)\n",
    "err"
   ]
  },
  {
   "cell_type": "code",
   "execution_count": 52,
   "metadata": {},
   "outputs": [
    {
     "data": {
      "text/plain": [
       "0.20076666666666543"
      ]
     },
     "execution_count": 52,
     "metadata": {},
     "output_type": "execute_result"
    }
   ],
   "source": [
    "typ_err=get_typ_err(tree_gini,k,m,1000)\n",
    "typ_err"
   ]
  },
  {
   "cell_type": "code",
   "execution_count": 19,
   "metadata": {},
   "outputs": [],
   "source": [
    "# Simulation for diff. values (list) of m\n",
    "def gen_gini_ds_sim(k,m):\n",
    "    #error list\n",
    "    err_ls=[]\n",
    "    for val in m:\n",
    "        dataset=gen_dataset(k, val)\n",
    "        tree=gini_build_tree(dataset)\n",
    "        train_err=fit(dataset, tree)\n",
    "        typ_err=get_typ_err(tree, k, val, 50)\n",
    "        err_ls.append(abs(train_err-typ_err))\n",
    "    plt.plot(m,err_ls)\n",
    "    plt.xlabel(\"m: No. of datapoints\")\n",
    "    plt.ylabel(\"Absolute diff. between training and typical error\")\n",
    "    plt.title(\"Plot for difference of error as a function of m\")\n",
    "    plt.show()\n",
    "    return err_ls, m"
   ]
  },
  {
   "cell_type": "code",
   "execution_count": 54,
   "metadata": {},
   "outputs": [
    {
     "data": {
      "image/png": "[encoded data removed]",
      "text/plain": [
       "<Figure size 432x288 with 1 Axes>"
      ]
     },
     "metadata": {
      "needs_background": "light"
     },
     "output_type": "display_data"
    }
   ],
   "source": [
    "k=10\n",
    "m_list=list(range(10, 401, 20))\n",
    "err_gini, m_gini = gen_gini_ds_sim(k,m_list)"
   ]
  },
  {
   "cell_type": "code",
   "execution_count": 55,
   "metadata": {},
   "outputs": [
    {
     "data": {
      "image/png": "[encoded data removed]",
      "text/plain": [
       "<Figure size 432x288 with 1 Axes>"
      ]
     },
     "metadata": {
      "needs_background": "light"
     },
     "output_type": "display_data"
    }
   ],
   "source": [
    "plt.plot(m_ID3, err_ID3, label=\"ID3\")\n",
    "plt.plot(m_gini, err_gini, label=\"Gini Impurity\")\n",
    "plt.xlabel(\"m: No. of datapoints\")\n",
    "plt.ylabel(\"Absolute diff. between training and typical error\")\n",
    "plt.title(\"Comparison plot for difference of error as a function of m\")\n",
    "plt.legend()\n",
    "plt.show()"
   ]
  },
  {
   "cell_type": "markdown",
   "metadata": {},
   "source": [
    "# End of 1 Generating Decision Trees"
   ]
  },
  {
   "cell_type": "code",
   "execution_count": null,
   "metadata": {},
   "outputs": [],
   "source": []
  },
  {
   "cell_type": "code",
   "execution_count": 38,
   "metadata": {},
   "outputs": [
    {
     "name": "stdout",
     "output_type": "stream",
     "text": [
      "{'X5': {0: {'X8': {0: {'X0': {0: 0,\n",
      "                              1: {'X11': {0: 0, 1: {'X13': {0: 0, 1: 1}}}}}},\n",
      "                   1: {'X3': {0: {'X1': {0: 0,\n",
      "                                         1: {'X11': {0: {'X0': {0: 1, 1: 0}},\n",
      "                                                     1: {'X0': {0: 0,\n",
      "                                                                1: 1}}}}}},\n",
      "                              1: {'X9': {0: 0, 1: 1}}}}}},\n",
      "        1: {'X13': {0: {'X0': {0: {'X2': {0: {'X4': {0: 0,\n",
      "                                                     1: {'X6': {0: 0, 1: 1}}}},\n",
      "                                          1: 1}},\n",
      "                               1: {'X11': {0: 0,\n",
      "                                           1: {'X9': {0: {'X3': {0: 1, 1: 0}},\n",
      "                                                      1: 1}}}}}},\n",
      "                    1: {'X3': {0: {'X7': {0: {'X8': {0: 0, 1: 1}}, 1: 1}},\n",
      "                               1: 1}}}}}}\n"
     ]
    }
   ],
   "source": [
    "#tree = ID3_build_tree(dataset)\n",
    "tree\n",
    "import pprint\n",
    "pprint.pprint(tree)"
   ]
  },
  {
   "cell_type": "markdown",
   "metadata": {},
   "source": [
    "## ========================================================="
   ]
  },
  {
   "cell_type": "markdown",
   "metadata": {},
   "source": [
    "# 2 Pruning Decision Trees"
   ]
  },
  {
   "cell_type": "code",
   "execution_count": null,
   "metadata": {},
   "outputs": [],
   "source": []
  },
  {
   "cell_type": "markdown",
   "metadata": {},
   "source": [
    "## Answer to Question 2.1"
   ]
  },
  {
   "cell_type": "code",
   "execution_count": 20,
   "metadata": {},
   "outputs": [],
   "source": [
    "# generate m datapoints with 21 features each\n",
    "def gen_X2(m):\n",
    "    pass\n",
    "\n",
    "    # init. required 2D array i.e. our data points with features as empty\n",
    "    X=np.empty((m,21)).astype(int)\n",
    "    \n",
    "    for i in range(m):\n",
    "        # setting first feature \n",
    "        if(RNG_Prob()<0.5):\n",
    "            X[i][0]=1\n",
    "        else:\n",
    "            X[i][0]=0\n",
    "        \n",
    "        # setting subsequent (X1 to X14) features\n",
    "        for j in range(1,15):\n",
    "            if(RNG_Prob()<0.75):\n",
    "                X[i][j]=X[i][j-1]\n",
    "            else:\n",
    "                X[i][j]=1-X[i][j-1]\n",
    "                \n",
    "        # setting subsequent (X15 to X20) features (noise)\n",
    "        for j in range(15,21):\n",
    "            if(RNG_Prob()<0.5):\n",
    "                X[i][j]=1\n",
    "            else:\n",
    "                X[i][j]=0\n",
    "    return X\n",
    "\n",
    "\n",
    "def gen_Y2(m,X):\n",
    "    pass\n",
    "\n",
    "    # init. Y with as empty 1D array; each Y corresponds to each data point\n",
    "    Y=np.empty((m)).astype(int)\n",
    "    \n",
    "    for i in range(m):\n",
    "        if(X[i][0]==0):\n",
    "            List=X[i][1:8].tolist()\n",
    "            Y[i]=max(set(List),key=List.count)\n",
    "        elif(X[i][0]==1):\n",
    "            List=X[i][8:15].tolist()\n",
    "            Y[i]=max(set(List),key=List.count)\n",
    "    return Y\n",
    "\n",
    "\n",
    "# generating the complete dataset having Xs and Y\n",
    "def gen_dataset2(m):\n",
    "    pass\n",
    "    X=gen_X2(m)\n",
    "    Y=gen_Y2(m,X)\n",
    "    \n",
    "    # row index for X and Y\n",
    "    rows=[]\n",
    "    for i in range(m):\n",
    "        rows.append(\"DataPoint \"+str(i+1))\n",
    "        \n",
    "    # column header for X\n",
    "    X_header=[]\n",
    "    for i in range(21):\n",
    "        X_header.append(\"X\"+str(i))\n",
    "        \n",
    "    # creating corresponding DataFrames for X and Y\n",
    "    X_df=pd.DataFrame(data=X, index=rows, columns=X_header)\n",
    "    Y_df=pd.DataFrame(data=Y, index=rows, columns=[\"Y\"])\n",
    "    \n",
    "    # merging the DataFrames\n",
    "    dataset=X_df.merge(Y_df,left_index=True, right_index=True)\n",
    "    return dataset"
   ]
  },
  {
   "cell_type": "code",
   "execution_count": 108,
   "metadata": {},
   "outputs": [
    {
     "data": {
      "text/html": [
       "<div>\n",
       "<style scoped>\n",
       "    .dataframe tbody tr th:only-of-type {\n",
       "        vertical-align: middle;\n",
       "    }\n",
       "\n",
       "    .dataframe tbody tr th {\n",
       "        vertical-align: top;\n",
       "    }\n",
       "\n",
       "    .dataframe thead th {\n",
       "        text-align: right;\n",
       "    }\n",
       "</style>\n",
       "<table border=\"1\" class=\"dataframe\">\n",
       "  <thead>\n",
       "    <tr style=\"text-align: right;\">\n",
       "      <th></th>\n",
       "      <th>X0</th>\n",
       "      <th>X1</th>\n",
       "      <th>X2</th>\n",
       "      <th>X3</th>\n",
       "      <th>X4</th>\n",
       "      <th>X5</th>\n",
       "      <th>X6</th>\n",
       "      <th>X7</th>\n",
       "      <th>X8</th>\n",
       "      <th>X9</th>\n",
       "      <th>...</th>\n",
       "      <th>X12</th>\n",
       "      <th>X13</th>\n",
       "      <th>X14</th>\n",
       "      <th>X15</th>\n",
       "      <th>X16</th>\n",
       "      <th>X17</th>\n",
       "      <th>X18</th>\n",
       "      <th>X19</th>\n",
       "      <th>X20</th>\n",
       "      <th>Y</th>\n",
       "    </tr>\n",
       "  </thead>\n",
       "  <tbody>\n",
       "    <tr>\n",
       "      <th>DataPoint 1</th>\n",
       "      <td>0</td>\n",
       "      <td>0</td>\n",
       "      <td>0</td>\n",
       "      <td>0</td>\n",
       "      <td>1</td>\n",
       "      <td>0</td>\n",
       "      <td>0</td>\n",
       "      <td>0</td>\n",
       "      <td>0</td>\n",
       "      <td>0</td>\n",
       "      <td>...</td>\n",
       "      <td>1</td>\n",
       "      <td>1</td>\n",
       "      <td>1</td>\n",
       "      <td>0</td>\n",
       "      <td>0</td>\n",
       "      <td>1</td>\n",
       "      <td>1</td>\n",
       "      <td>1</td>\n",
       "      <td>1</td>\n",
       "      <td>0</td>\n",
       "    </tr>\n",
       "    <tr>\n",
       "      <th>DataPoint 2</th>\n",
       "      <td>1</td>\n",
       "      <td>1</td>\n",
       "      <td>0</td>\n",
       "      <td>1</td>\n",
       "      <td>0</td>\n",
       "      <td>0</td>\n",
       "      <td>0</td>\n",
       "      <td>1</td>\n",
       "      <td>0</td>\n",
       "      <td>1</td>\n",
       "      <td>...</td>\n",
       "      <td>0</td>\n",
       "      <td>0</td>\n",
       "      <td>0</td>\n",
       "      <td>1</td>\n",
       "      <td>0</td>\n",
       "      <td>0</td>\n",
       "      <td>1</td>\n",
       "      <td>0</td>\n",
       "      <td>1</td>\n",
       "      <td>0</td>\n",
       "    </tr>\n",
       "    <tr>\n",
       "      <th>DataPoint 3</th>\n",
       "      <td>1</td>\n",
       "      <td>0</td>\n",
       "      <td>0</td>\n",
       "      <td>0</td>\n",
       "      <td>1</td>\n",
       "      <td>1</td>\n",
       "      <td>1</td>\n",
       "      <td>0</td>\n",
       "      <td>0</td>\n",
       "      <td>0</td>\n",
       "      <td>...</td>\n",
       "      <td>0</td>\n",
       "      <td>0</td>\n",
       "      <td>0</td>\n",
       "      <td>1</td>\n",
       "      <td>0</td>\n",
       "      <td>1</td>\n",
       "      <td>1</td>\n",
       "      <td>1</td>\n",
       "      <td>1</td>\n",
       "      <td>0</td>\n",
       "    </tr>\n",
       "    <tr>\n",
       "      <th>DataPoint 4</th>\n",
       "      <td>0</td>\n",
       "      <td>0</td>\n",
       "      <td>0</td>\n",
       "      <td>1</td>\n",
       "      <td>1</td>\n",
       "      <td>1</td>\n",
       "      <td>0</td>\n",
       "      <td>1</td>\n",
       "      <td>1</td>\n",
       "      <td>0</td>\n",
       "      <td>...</td>\n",
       "      <td>1</td>\n",
       "      <td>1</td>\n",
       "      <td>1</td>\n",
       "      <td>1</td>\n",
       "      <td>1</td>\n",
       "      <td>1</td>\n",
       "      <td>1</td>\n",
       "      <td>1</td>\n",
       "      <td>1</td>\n",
       "      <td>1</td>\n",
       "    </tr>\n",
       "    <tr>\n",
       "      <th>DataPoint 5</th>\n",
       "      <td>0</td>\n",
       "      <td>0</td>\n",
       "      <td>0</td>\n",
       "      <td>0</td>\n",
       "      <td>0</td>\n",
       "      <td>0</td>\n",
       "      <td>1</td>\n",
       "      <td>1</td>\n",
       "      <td>1</td>\n",
       "      <td>1</td>\n",
       "      <td>...</td>\n",
       "      <td>1</td>\n",
       "      <td>0</td>\n",
       "      <td>0</td>\n",
       "      <td>1</td>\n",
       "      <td>1</td>\n",
       "      <td>1</td>\n",
       "      <td>1</td>\n",
       "      <td>0</td>\n",
       "      <td>0</td>\n",
       "      <td>0</td>\n",
       "    </tr>\n",
       "    <tr>\n",
       "      <th>...</th>\n",
       "      <td>...</td>\n",
       "      <td>...</td>\n",
       "      <td>...</td>\n",
       "      <td>...</td>\n",
       "      <td>...</td>\n",
       "      <td>...</td>\n",
       "      <td>...</td>\n",
       "      <td>...</td>\n",
       "      <td>...</td>\n",
       "      <td>...</td>\n",
       "      <td>...</td>\n",
       "      <td>...</td>\n",
       "      <td>...</td>\n",
       "      <td>...</td>\n",
       "      <td>...</td>\n",
       "      <td>...</td>\n",
       "      <td>...</td>\n",
       "      <td>...</td>\n",
       "      <td>...</td>\n",
       "      <td>...</td>\n",
       "      <td>...</td>\n",
       "    </tr>\n",
       "    <tr>\n",
       "      <th>DataPoint 96</th>\n",
       "      <td>0</td>\n",
       "      <td>0</td>\n",
       "      <td>0</td>\n",
       "      <td>1</td>\n",
       "      <td>1</td>\n",
       "      <td>1</td>\n",
       "      <td>1</td>\n",
       "      <td>0</td>\n",
       "      <td>0</td>\n",
       "      <td>1</td>\n",
       "      <td>...</td>\n",
       "      <td>0</td>\n",
       "      <td>0</td>\n",
       "      <td>0</td>\n",
       "      <td>0</td>\n",
       "      <td>1</td>\n",
       "      <td>1</td>\n",
       "      <td>0</td>\n",
       "      <td>1</td>\n",
       "      <td>1</td>\n",
       "      <td>1</td>\n",
       "    </tr>\n",
       "    <tr>\n",
       "      <th>DataPoint 97</th>\n",
       "      <td>1</td>\n",
       "      <td>0</td>\n",
       "      <td>0</td>\n",
       "      <td>0</td>\n",
       "      <td>0</td>\n",
       "      <td>1</td>\n",
       "      <td>1</td>\n",
       "      <td>1</td>\n",
       "      <td>1</td>\n",
       "      <td>0</td>\n",
       "      <td>...</td>\n",
       "      <td>0</td>\n",
       "      <td>0</td>\n",
       "      <td>0</td>\n",
       "      <td>1</td>\n",
       "      <td>0</td>\n",
       "      <td>0</td>\n",
       "      <td>1</td>\n",
       "      <td>0</td>\n",
       "      <td>0</td>\n",
       "      <td>0</td>\n",
       "    </tr>\n",
       "    <tr>\n",
       "      <th>DataPoint 98</th>\n",
       "      <td>0</td>\n",
       "      <td>1</td>\n",
       "      <td>1</td>\n",
       "      <td>1</td>\n",
       "      <td>1</td>\n",
       "      <td>0</td>\n",
       "      <td>0</td>\n",
       "      <td>0</td>\n",
       "      <td>0</td>\n",
       "      <td>0</td>\n",
       "      <td>...</td>\n",
       "      <td>1</td>\n",
       "      <td>1</td>\n",
       "      <td>1</td>\n",
       "      <td>1</td>\n",
       "      <td>1</td>\n",
       "      <td>1</td>\n",
       "      <td>1</td>\n",
       "      <td>0</td>\n",
       "      <td>1</td>\n",
       "      <td>1</td>\n",
       "    </tr>\n",
       "    <tr>\n",
       "      <th>DataPoint 99</th>\n",
       "      <td>0</td>\n",
       "      <td>0</td>\n",
       "      <td>0</td>\n",
       "      <td>0</td>\n",
       "      <td>0</td>\n",
       "      <td>0</td>\n",
       "      <td>0</td>\n",
       "      <td>0</td>\n",
       "      <td>0</td>\n",
       "      <td>0</td>\n",
       "      <td>...</td>\n",
       "      <td>0</td>\n",
       "      <td>0</td>\n",
       "      <td>0</td>\n",
       "      <td>1</td>\n",
       "      <td>0</td>\n",
       "      <td>1</td>\n",
       "      <td>1</td>\n",
       "      <td>1</td>\n",
       "      <td>1</td>\n",
       "      <td>0</td>\n",
       "    </tr>\n",
       "    <tr>\n",
       "      <th>DataPoint 100</th>\n",
       "      <td>1</td>\n",
       "      <td>1</td>\n",
       "      <td>1</td>\n",
       "      <td>0</td>\n",
       "      <td>0</td>\n",
       "      <td>0</td>\n",
       "      <td>0</td>\n",
       "      <td>0</td>\n",
       "      <td>0</td>\n",
       "      <td>1</td>\n",
       "      <td>...</td>\n",
       "      <td>1</td>\n",
       "      <td>1</td>\n",
       "      <td>1</td>\n",
       "      <td>1</td>\n",
       "      <td>1</td>\n",
       "      <td>1</td>\n",
       "      <td>0</td>\n",
       "      <td>1</td>\n",
       "      <td>1</td>\n",
       "      <td>1</td>\n",
       "    </tr>\n",
       "  </tbody>\n",
       "</table>\n",
       "<p>100 rows × 22 columns</p>\n",
       "</div>"
      ],
      "text/plain": [
       "               X0  X1  X2  X3  X4  X5  X6  X7  X8  X9  ...  X12  X13  X14  \\\n",
       "DataPoint 1     0   0   0   0   1   0   0   0   0   0  ...    1    1    1   \n",
       "DataPoint 2     1   1   0   1   0   0   0   1   0   1  ...    0    0    0   \n",
       "DataPoint 3     1   0   0   0   1   1   1   0   0   0  ...    0    0    0   \n",
       "DataPoint 4     0   0   0   1   1   1   0   1   1   0  ...    1    1    1   \n",
       "DataPoint 5     0   0   0   0   0   0   1   1   1   1  ...    1    0    0   \n",
       "...            ..  ..  ..  ..  ..  ..  ..  ..  ..  ..  ...  ...  ...  ...   \n",
       "DataPoint 96    0   0   0   1   1   1   1   0   0   1  ...    0    0    0   \n",
       "DataPoint 97    1   0   0   0   0   1   1   1   1   0  ...    0    0    0   \n",
       "DataPoint 98    0   1   1   1   1   0   0   0   0   0  ...    1    1    1   \n",
       "DataPoint 99    0   0   0   0   0   0   0   0   0   0  ...    0    0    0   \n",
       "DataPoint 100   1   1   1   0   0   0   0   0   0   1  ...    1    1    1   \n",
       "\n",
       "               X15  X16  X17  X18  X19  X20  Y  \n",
       "DataPoint 1      0    0    1    1    1    1  0  \n",
       "DataPoint 2      1    0    0    1    0    1  0  \n",
       "DataPoint 3      1    0    1    1    1    1  0  \n",
       "DataPoint 4      1    1    1    1    1    1  1  \n",
       "DataPoint 5      1    1    1    1    0    0  0  \n",
       "...            ...  ...  ...  ...  ...  ... ..  \n",
       "DataPoint 96     0    1    1    0    1    1  1  \n",
       "DataPoint 97     1    0    0    1    0    0  0  \n",
       "DataPoint 98     1    1    1    1    0    1  1  \n",
       "DataPoint 99     1    0    1    1    1    1  0  \n",
       "DataPoint 100    1    1    1    0    1    1  1  \n",
       "\n",
       "[100 rows x 22 columns]"
      ]
     },
     "execution_count": 108,
     "metadata": {},
     "output_type": "execute_result"
    }
   ],
   "source": [
    "m=100\n",
    "dataset=gen_dataset2(m)\n",
    "dataset"
   ]
  },
  {
   "cell_type": "code",
   "execution_count": null,
   "metadata": {
    "scrolled": true
   },
   "outputs": [],
   "source": []
  },
  {
   "cell_type": "code",
   "execution_count": 109,
   "metadata": {},
   "outputs": [
    {
     "data": {
      "text/plain": [
       "{'X3': {0: {'X2': {0: {'X7': {0: 0,\n",
       "      1: {'X14': {0: 0, 1: {'X0': {1: 1, 0: {'X4': {0: 0, 1: 1}}}}}}}},\n",
       "    1: {'X11': {1: {'X0': {1: 1, 0: 0}}, 0: {'X7': {1: 1, 0: 0}}}}}},\n",
       "  1: {'X9': {1: {'X5': {0: {'X16': {0: 0, 1: 1}}, 1: 1}},\n",
       "    0: {'X0': {0: {'X4': {1: 1, 0: {'X6': {1: 1, 0: 0}}}},\n",
       "      1: {'X10': {0: 0, 1: 1}}}}}}}}"
      ]
     },
     "execution_count": 109,
     "metadata": {},
     "output_type": "execute_result"
    }
   ],
   "source": [
    "tree = ID3_build_tree(dataset)\n",
    "tree"
   ]
  },
  {
   "cell_type": "code",
   "execution_count": 111,
   "metadata": {},
   "outputs": [
    {
     "name": "stdout",
     "output_type": "stream",
     "text": [
      "Time taken:  0.02716359999976703\n"
     ]
    },
    {
     "data": {
      "text/plain": [
       "0.0"
      ]
     },
     "execution_count": 111,
     "metadata": {},
     "output_type": "execute_result"
    }
   ],
   "source": [
    "start = timer()\n",
    "err = fit(dataset, tree)\n",
    "print(\"Time taken: \", timer()-start)\n",
    "err"
   ]
  },
  {
   "cell_type": "code",
   "execution_count": 112,
   "metadata": {},
   "outputs": [],
   "source": [
    "def get_typ_err2(tree, m, MAX_ITER):\n",
    "    typ_err = 0\n",
    "    for i in range(MAX_ITER):\n",
    "        data=gen_dataset2(m)\n",
    "        typ_err+=fit(data,tree)\n",
    "\n",
    "    typ_err/=MAX_ITER\n",
    "    return typ_err"
   ]
  },
  {
   "cell_type": "code",
   "execution_count": 113,
   "metadata": {},
   "outputs": [],
   "source": [
    "# Simulation for diff. values (list) of m\n",
    "def gen_ds_sim2():\n",
    "    #m = list(range(10, 2001, 100))\n",
    "    err_ls=[]\n",
    "    for val in m:\n",
    "        dataset = gen_dataset2(val)\n",
    "        tree = ID3_build_tree(dataset)\n",
    "        train_err = fit(dataset, tree)\n",
    "        typ_err = get_typ_err2(tree,val,50)\n",
    "        err_ls.append(abs(train_err - typ_err))\n",
    "    plt.plot(m, err_ls)\n",
    "    plt.xlabel(\"m: No. of datapoints\")\n",
    "    plt.ylabel(\"Absolute diff. between training and typical error\")\n",
    "    plt.title(\"Plot for difference of error as a function of m\")\n",
    "    plt.show()\n",
    "    return err_ls"
   ]
  },
  {
   "cell_type": "code",
   "execution_count": 76,
   "metadata": {},
   "outputs": [
    {
     "name": "stdout",
     "output_type": "stream",
     "text": [
      "[10, 210, 410, 610, 810, 1010, 1210, 1410, 1610, 1810, 2010, 2210, 2410]\n"
     ]
    },
    {
     "data": {
      "image/png": "[encoded data removed]",
      "text/plain": [
       "<Figure size 432x288 with 1 Axes>"
      ]
     },
     "metadata": {
      "needs_background": "light"
     },
     "output_type": "display_data"
    }
   ],
   "source": [
    "#m=list(range(10, 10001, 1))\n",
    "m=list(range(10, 2411, 200))\n",
    "print(m)\n",
    "typical_error=gen_ds_sim2()"
   ]
  },
  {
   "cell_type": "code",
   "execution_count": null,
   "metadata": {},
   "outputs": [],
   "source": []
  },
  {
   "cell_type": "code",
   "execution_count": null,
   "metadata": {},
   "outputs": [],
   "source": []
  },
  {
   "cell_type": "markdown",
   "metadata": {},
   "source": [
    "## Answer to Question 2.2"
   ]
  },
  {
   "cell_type": "code",
   "execution_count": null,
   "metadata": {},
   "outputs": [],
   "source": []
  },
  {
   "cell_type": "code",
   "execution_count": 114,
   "metadata": {},
   "outputs": [],
   "source": [
    "# get list of features (i.e. nodes in the decision tree) \n",
    "# which were considered relevant by the algorithm\n",
    "# rvl=relevant variable list\n",
    "def get_unique_rvl(d, rvl):\n",
    "    for key, value in d.items():\n",
    "        if(isinstance(key, str)):        \n",
    "            rvl.append(key)\n",
    "        if isinstance(value, dict):\n",
    "            get_unique_rvl(value, rvl)\n",
    "            \n",
    "    return set(rvl)"
   ]
  },
  {
   "cell_type": "code",
   "execution_count": 115,
   "metadata": {},
   "outputs": [],
   "source": [
    "# get irrelevant var count by comparing with relevant vars\n",
    "# ivc=irrelevant variable count\n",
    "def get_ivc(ivl,rvl):\n",
    "    count=0\n",
    "    for item in ivl:\n",
    "        if item in rvl:\n",
    "            count+=1\n",
    "    return count"
   ]
  },
  {
   "cell_type": "code",
   "execution_count": null,
   "metadata": {},
   "outputs": [],
   "source": []
  },
  {
   "cell_type": "code",
   "execution_count": 117,
   "metadata": {},
   "outputs": [],
   "source": [
    "# simulation function for getting avg. irrevant variables\n",
    "# for given size of dataset\n",
    "def ivc_sim(m,MAX_ITER):\n",
    "    # ivc_ls=irrelevant variable count list\n",
    "    ivc_ls = []\n",
    "    ivl = ['X15', 'X16', 'X17', 'X18', 'X19','X20']\n",
    "    \n",
    "    for m_i in m:\n",
    "        count = []\n",
    "        for j in range(MAX_ITER):\n",
    "            dataset2 = gen_dataset2(m_i)\n",
    "            tree = ID3_build_tree(dataset2)\n",
    "            rvl=[]\n",
    "            get_unique_rvl(tree,rvl)\n",
    "            count.append(get_ivc(ivl,rvl))\n",
    "            \n",
    "        ivc_ls.append(sum(count)/len(count))\n",
    "    \n",
    "    \n",
    "    plt.plot(m, ivc_ls)\n",
    "    plt.xlabel(\"m: No. of datapoints\")\n",
    "    plt.ylabel(\"Avg. number of irrelevant variables\")\n",
    "    plt.title(\"Plot for average irrelevant variables\")\n",
    "    plt.show()"
   ]
  },
  {
   "cell_type": "code",
   "execution_count": 118,
   "metadata": {},
   "outputs": [
    {
     "name": "stdout",
     "output_type": "stream",
     "text": [
      "m values (List) = [1000, 8000, 15000, 22000, 29000, 36000, 43000, 50000]\n"
     ]
    },
    {
     "data": {
      "image/png": "[encoded data removed]",
      "text/plain": [
       "<Figure size 432x288 with 1 Axes>"
      ]
     },
     "metadata": {
      "needs_background": "light"
     },
     "output_type": "display_data"
    },
    {
     "name": "stdout",
     "output_type": "stream",
     "text": [
      "Time taken:  2388.143747099999\n"
     ]
    }
   ],
   "source": [
    "# running the simulation\n",
    "m=list(range(1000,50001,7000))\n",
    "print(\"m values (List) =\",m)\n",
    "MAX_ITER=5\n",
    "start = timer()\n",
    "ivc_sim(m,MAX_ITER)\n",
    "print(\"Time taken: \", timer()-start)"
   ]
  },
  {
   "cell_type": "markdown",
   "metadata": {},
   "source": [
    "## Answer to Question 2.3"
   ]
  },
  {
   "cell_type": "code",
   "execution_count": null,
   "metadata": {},
   "outputs": [],
   "source": []
  },
  {
   "cell_type": "code",
   "execution_count": 25,
   "metadata": {},
   "outputs": [],
   "source": [
    "new_dataset=gen_dataset2(10000)"
   ]
  },
  {
   "cell_type": "code",
   "execution_count": 26,
   "metadata": {},
   "outputs": [],
   "source": [
    "train_set=new_dataset[:8000]\n",
    "test_set=new_dataset[8000:]"
   ]
  },
  {
   "cell_type": "code",
   "execution_count": 120,
   "metadata": {},
   "outputs": [],
   "source": [
    "tree = ID3_build_tree(train_set)"
   ]
  },
  {
   "cell_type": "code",
   "execution_count": 121,
   "metadata": {},
   "outputs": [],
   "source": [
    "def get_max_depth(d, depth=[], start=0):\n",
    "    for key, value in d.items():\n",
    "        if(isinstance(key, str)):\n",
    "            #depth.append(start+1)\n",
    "            depth.append((start+2)/2)\n",
    "        if isinstance(value, dict):\n",
    "            get_max_depth(value, depth, start=start+1)\n",
    "            \n",
    "    return sorted(set(depth))[-1]+1"
   ]
  },
  {
   "cell_type": "code",
   "execution_count": 122,
   "metadata": {},
   "outputs": [],
   "source": [
    "# def print_depth(d, start=0):\n",
    "#     for key, value in d.items():\n",
    "#         if(isinstance(key, str)):\n",
    "#             print(key, (start + 2)/2)\n",
    "#         if (isinstance(value, dict)): #and isinstance(key, str)):\n",
    "#             print_depth(value, start=start+1)\n",
    "# #         else:\n",
    "# #             print_depth(value, start=start)"
   ]
  },
  {
   "cell_type": "code",
   "execution_count": 123,
   "metadata": {},
   "outputs": [
    {
     "data": {
      "text/plain": [
       "0.0"
      ]
     },
     "execution_count": 123,
     "metadata": {},
     "output_type": "execute_result"
    }
   ],
   "source": [
    "train_error=fit(train_set,tree)\n",
    "train_error"
   ]
  },
  {
   "cell_type": "code",
   "execution_count": 124,
   "metadata": {},
   "outputs": [
    {
     "data": {
      "text/plain": [
       "0.0195"
      ]
     },
     "execution_count": 124,
     "metadata": {},
     "output_type": "execute_result"
    }
   ],
   "source": [
    "test_error=fit(test_set,tree)\n",
    "test_error"
   ]
  },
  {
   "cell_type": "code",
   "execution_count": 125,
   "metadata": {},
   "outputs": [],
   "source": [
    "# tree=ID3_build_tree(dataset)\n",
    "# pprint.pprint(tree)\n",
    "# #print(get_max_depth(tree))"
   ]
  },
  {
   "cell_type": "code",
   "execution_count": 40,
   "metadata": {},
   "outputs": [
    {
     "name": "stdout",
     "output_type": "stream",
     "text": [
      "11\n"
     ]
    }
   ],
   "source": [
    "# #delete later\n",
    "# print(get_max_depth(tree))"
   ]
  },
  {
   "cell_type": "code",
   "execution_count": 126,
   "metadata": {},
   "outputs": [],
   "source": [
    "# def print_depth(d, start=0):\n",
    "#     for key, value in d.items():\n",
    "#         print(key, start + 1)\n",
    "#         if isinstance(value, dict):\n",
    "#             print_depth(value, start=start+1)"
   ]
  },
  {
   "cell_type": "code",
   "execution_count": 127,
   "metadata": {},
   "outputs": [],
   "source": [
    "# testDict={'X4': {0: {'X1': {0: {'X2': {0: 1, 1: 0}},\n",
    "#                    1: {'X3': {0: 0, 1: {'X2': {0: 0, 1: 1}}}}}},\n",
    "#         1: {'X1': {0: {'X2': {0: 1, 1: 0}},\n",
    "#                    1: {'X2': {0: {'X3': {0: 0, 1: 1}}, 1: 1}}}}}}\n",
    "# testDict"
   ]
  },
  {
   "cell_type": "code",
   "execution_count": 68,
   "metadata": {},
   "outputs": [],
   "source": [
    "def ID3_build_tree_depth(data, depth_threshold, tree=None):\n",
    "    output = data.keys()[-1]\n",
    "    \n",
    "    node = IG_partition(data)\n",
    "    \n",
    "    feature_vals = data[node].unique()\n",
    "\n",
    "    \n",
    "    \n",
    "    if tree is None:\n",
    "        tree = {}\n",
    "        tree[node] = {}\n",
    "    \n",
    "    #testing\n",
    "    pprint.pprint(tree)\n",
    "    \n",
    "    print(\"curr depth A: \",get_max_depth(tree,[]))\n",
    "    \n",
    "    for val in feature_vals:\n",
    "        print(\"curr depth B: \",get_max_depth(tree,[]))\n",
    "        subtree = get_subtree(data, node, val)\n",
    "        output_val, output_counts = np.unique(subtree[subtree.keys()[-1]], return_counts=True)\n",
    "        if len(output_counts) == 1:\n",
    "            print(\"here1\", tree)\n",
    "            tree[node][val] = output_val[0]\n",
    "        else:\n",
    "            print(\"curr depth C: \",get_max_depth(tree,[]))\n",
    "            if(get_max_depth(tree,[],0)<depth_threshold):\n",
    "                print(get_max_depth(tree,[],0))\n",
    "                print(\"here2\")\n",
    "                tree[node][val] = ID3_build_tree_depth(subtree, depth_threshold)\n",
    "            else:\n",
    "                print(\"here3\", depth_threshold, get_max_depth(tree,[]))\n",
    "                tree[node][val] = max(set(output_val.tolist()),key=output_val.tolist().count)\n",
    "        \n",
    "\n",
    "                \n",
    "    return tree"
   ]
  },
  {
   "cell_type": "code",
   "execution_count": 106,
   "metadata": {},
   "outputs": [
    {
     "name": "stdout",
     "output_type": "stream",
     "text": [
      "{'X4': {}}\n",
      "curr depth A:  2.0\n",
      "curr depth B:  2.0\n",
      "curr depth C:  2.0\n",
      "2.0\n",
      "here2\n",
      "{'X1': {}}\n",
      "curr depth A:  2.0\n",
      "curr depth B:  2.0\n",
      "curr depth C:  2.0\n",
      "2.0\n",
      "here2\n",
      "{'X2': {}}\n",
      "curr depth A:  2.0\n",
      "curr depth B:  2.0\n",
      "here1 {'X2': {}}\n",
      "curr depth B:  2.0\n",
      "curr depth C:  2.0\n",
      "2.0\n",
      "here2\n",
      "{'X3': {}}\n",
      "curr depth A:  2.0\n",
      "curr depth B:  2.0\n",
      "here1 {'X3': {}}\n",
      "curr depth B:  2.0\n",
      "here1 {'X3': {0: 0}}\n",
      "curr depth B:  4.0\n",
      "curr depth C:  4.0\n",
      "here3 3 4.0\n",
      "curr depth B:  5.0\n",
      "curr depth C:  5.0\n",
      "here3 3 5.0\n",
      "{'X4': {0: 0, 1: {'X1': {0: 0, 1: {'X2': {0: {'X3': {0: 0, 1: 1}}, 1: 1}}}}}}\n",
      "5.0\n"
     ]
    }
   ],
   "source": [
    "depth_thresh=4\n",
    "#tree2={}\n",
    "#start=0\n",
    "tree=ID3_build_tree_depth(train_set, depth_thresh-1)\n",
    "pprint.pprint(tree2)\n",
    "print(get_max_depth(tree,[]))\n",
    "#print(print_depth(tree2))"
   ]
  },
  {
   "cell_type": "code",
   "execution_count": null,
   "metadata": {},
   "outputs": [],
   "source": [
    "def pruning_by_depth(depth):\n",
    "    \n",
    "    train_error=[]\n",
    "    test_error=[]\n",
    "    for d_i in depth:\n",
    "        tree=ID3_build_tree_depth(train_set, d_i)\n",
    "        \n",
    "        train_error.append(fit(train_set,tree))\n",
    "        test_error.append(fit(test_set,tree))\n",
    "        \n",
    "    plt.plot(depth, train_error, marker='', color='blue', linewidth=2, label=\"Training error\")\n",
    "    plt.plot(depth, test_error, marker='', color='green', linewidth=2, linestyle='dashed', label=\"Testing error\")\n",
    "    plt.xlabel(\"Value of Depth Level\")\n",
    "    plt.ylabel(\"Errors\")\n",
    "    plt.title(\"Pruning by Depth Level\")\n",
    "    plt.legend()\n",
    "    plt.show()"
   ]
  },
  {
   "cell_type": "code",
   "execution_count": null,
   "metadata": {},
   "outputs": [],
   "source": [
    "depth=list(range(1, 14))\n",
    "pruning_by_depth(depth)"
   ]
  },
  {
   "cell_type": "code",
   "execution_count": null,
   "metadata": {},
   "outputs": [],
   "source": []
  },
  {
   "cell_type": "code",
   "execution_count": 131,
   "metadata": {},
   "outputs": [],
   "source": [
    "def get_freq(subtree):\n",
    "    output_val, output_counts = np.unique(subtree[subtree.keys()[-1]], return_counts=True)\n",
    "    if len(output_counts) == 1:\n",
    "        return output_val[0]\n",
    "    else:\n",
    "        if output_counts[1] > output_counts[0]:\n",
    "            return output_val[1]\n",
    "        else:\n",
    "            return output_val[0]"
   ]
  },
  {
   "cell_type": "code",
   "execution_count": 132,
   "metadata": {},
   "outputs": [],
   "source": [
    "def ID3_build_tree_sample(data, size, tree=None):\n",
    "    output = data.keys()[-1]\n",
    "    node = IG_partition(data)\n",
    "    feature_vals = data[node].unique()\n",
    "    \n",
    "    if tree is None:\n",
    "        tree = {}\n",
    "        tree[node] = {}\n",
    "\n",
    "    for val in feature_vals:\n",
    "        if len(data) <= size:\n",
    "            tree[node][val] = get_freq(data)\n",
    "        else:\n",
    "            subtree = get_subtree(data, node, val)\n",
    "            output_val, output_counts = np.unique(subtree[subtree.keys()[-1]], return_counts=True)\n",
    "            if len(output_counts) == 1:\n",
    "                tree[node][val] = output_val[0]\n",
    "            else:\n",
    "                tree[node][val] = ID3_build_tree_sample(subtree, size)\n",
    "\n",
    "\n",
    "                \n",
    "    return tree"
   ]
  },
  {
   "cell_type": "code",
   "execution_count": null,
   "metadata": {},
   "outputs": [],
   "source": []
  },
  {
   "cell_type": "code",
   "execution_count": 157,
   "metadata": {},
   "outputs": [],
   "source": [
    "def pruning_by_sample_size_sim(size):\n",
    "    train_error=[]\n",
    "    test_error=[]\n",
    "    for size_i in size:\n",
    "        tree = ID3_build_tree_sample(train_set, size_i)\n",
    "        \n",
    "        train_error.append(fit(train_set,tree))\n",
    "        test_error.append(fit(test_set,tree))\n",
    "\n",
    "    plt.plot(size, train_error,label=\"Training error\")\n",
    "    plt.plot(size, test_error,label=\"Testing error\")\n",
    "    plt.xlabel(\"Sample Size\")\n",
    "    plt.ylabel(\"Error\")\n",
    "    plt.title(\"Plot for Pruning: Sample Size vs Error\")\n",
    "    plt.legend()\n",
    "    plt.show()"
   ]
  },
  {
   "cell_type": "code",
   "execution_count": 159,
   "metadata": {},
   "outputs": [
    {
     "name": "stdout",
     "output_type": "stream",
     "text": [
      "size values (List) = [1, 101, 201, 301, 401, 501, 601, 701, 801, 901, 1001, 1101, 1201, 1301, 1401, 1501, 1601, 1701, 1801, 1901]\n"
     ]
    },
    {
     "data": {
      "image/png": "[encoded data removed]",
      "text/plain": [
       "<Figure size 432x288 with 1 Axes>"
      ]
     },
     "metadata": {
      "needs_background": "light"
     },
     "output_type": "display_data"
    },
    {
     "name": "stdout",
     "output_type": "stream",
     "text": [
      "Time taken:  255.0669001999995\n"
     ]
    }
   ],
   "source": [
    "size = list(range(1, 2001, 100))\n",
    "print(\"size values (List) =\",size)\n",
    "start = timer()\n",
    "pruning_by_sample_size_sim(size)\n",
    "print(\"Time taken: \", timer()-start)"
   ]
  },
  {
   "cell_type": "code",
   "execution_count": 141,
   "metadata": {},
   "outputs": [
    {
     "name": "stdout",
     "output_type": "stream",
     "text": [
      "[2001, 1901, 1801, 1701, 1601, 1501, 1401, 1301, 1201, 1101, 1001, 901, 801, 701, 601, 501, 401, 301, 201, 101, 1]\n"
     ]
    }
   ],
   "source": [
    "# size = list(range(2001, 0, -100))\n",
    "# print(size)"
   ]
  },
  {
   "cell_type": "markdown",
   "metadata": {},
   "source": [
    "## Answer to Question 2.4"
   ]
  },
  {
   "cell_type": "markdown",
   "metadata": {},
   "source": [
    "#### Question 2.4 doesn't exist in the given Homework"
   ]
  },
  {
   "cell_type": "markdown",
   "metadata": {},
   "source": [
    "## Answer to Question 2.5"
   ]
  },
  {
   "cell_type": "code",
   "execution_count": null,
   "metadata": {},
   "outputs": [],
   "source": []
  },
  {
   "cell_type": "markdown",
   "metadata": {},
   "source": [
    "## Answer to Question 2.6"
   ]
  },
  {
   "cell_type": "code",
   "execution_count": 151,
   "metadata": {},
   "outputs": [],
   "source": [
    "# def ivc_sim(m,MAX_ITER):\n",
    "#     ivc = []\n",
    "#     ivl = ['X15', 'X16', 'X17', 'X18', 'X19','X20']\n",
    "#     for m_i in m:\n",
    "#         count = []\n",
    "#         for j in range(MAX_ITER):\n",
    "#             train_data = gen_dataset(m_i)\n",
    "#             tree = ID3_build_tree(train_data)\n",
    "#             rvl=[]\n",
    "#             get_unique_rvl(tree,rvl)\n",
    "#             count.append(get_ivc(ivl,rvl))\n",
    "            \n",
    "#         ivc.append(sum(count)/len(count))\n",
    "    \n",
    "#     plt.plot(m, ivc)\n",
    "#     plt.xlabel(\"Value of m (sample size)\")\n",
    "#     plt.ylabel(\"Count of irrelevant columns\")\n",
    "#     plt.title(\"Irrelevant columns as a function of m\")\n",
    "#     plt.show() "
   ]
  },
  {
   "cell_type": "code",
   "execution_count": 153,
   "metadata": {},
   "outputs": [],
   "source": [
    "def ivc_sim_size(m,MAX_ITER,size):\n",
    "    ivc = []\n",
    "    ivl = ['X15', 'X16', 'X17', 'X18', 'X19','X20']\n",
    "    for m_i in m:\n",
    "        count = []\n",
    "        for j in range(MAX_ITER):            \n",
    "            train_data = gen_dataset2(m_i)\n",
    "            tree = ID3_build_tree_sample(train_data, size)\n",
    "        \n",
    "            rvl=[]\n",
    "            get_unique_rvl(tree,rvl)\n",
    "            count.append(get_ivc(ivl,rvl))\n",
    "            \n",
    "        ivc.append(sum(count)/len(count))\n",
    "    \n",
    "    plt.plot(m, ivc)\n",
    "    plt.xlabel(\"m: No. of datapoints\")\n",
    "    plt.ylabel(\"Avg. number of irrelevant variables\")\n",
    "    plt.title(\"Plot for average irrelevant variables\")\n",
    "    plt.show() "
   ]
  },
  {
   "cell_type": "code",
   "execution_count": 161,
   "metadata": {},
   "outputs": [
    {
     "name": "stdout",
     "output_type": "stream",
     "text": [
      "m values (List) = [1000, 8000, 15000, 22000, 29000, 36000, 43000, 50000]\n"
     ]
    },
    {
     "data": {
      "image/png": "[encoded data removed]",
      "text/plain": [
       "<Figure size 432x288 with 1 Axes>"
      ]
     },
     "metadata": {
      "needs_background": "light"
     },
     "output_type": "display_data"
    },
    {
     "name": "stdout",
     "output_type": "stream",
     "text": [
      "Time taken:  2054.1800702\n"
     ]
    }
   ],
   "source": [
    "m=list(range(1000,50001,7000))\n",
    "print(\"m values (List) =\",m)\n",
    "MAX_ITER=5\n",
    "# Taking 50 from Answer 2.3 b\n",
    "size=50\n",
    "start = timer()\n",
    "ivc_sim_size(m,MAX_ITER,size)\n",
    "print(\"Time taken: \", timer()-start)"
   ]
  },
  {
   "cell_type": "code",
   "execution_count": null,
   "metadata": {},
   "outputs": [],
   "source": []
  },
  {
   "cell_type": "code",
   "execution_count": null,
   "metadata": {},
   "outputs": [],
   "source": [
    "# def tree_with_fixed_sample_size():\n",
    "#     sample_size = 50\n",
    "#     samples = [101, 500, 1000, 2500, 5000, 10000, 30000, 70000]\n",
    "#     ivc = []\n",
    "#     irrelevant_variable = ['X15', 'X16', 'X17', 'X18', 'X19','X20']\n",
    "#     for i in tqdm(range(len(samples))):\n",
    "#         count = []\n",
    "#         for j in range(5):\n",
    "#             train_data = create_dataset(k, samples[i])\n",
    "#             dt = DecisionTreeWithNode(min_sample_size=sample_size)\n",
    "#             dt.fit(train_data, 'Y')\n",
    "#             count.append(len(dt.get_irrelevant_variable(irrelevant_variable)))\n",
    "            \n",
    "#         ivc.append(sum(count)/len(count))\n",
    "    \n",
    "#     plt.plot(samples, ivc)\n",
    "#     plt.xlabel(\"Value of m (sample size)\")\n",
    "#     plt.ylabel(\"Count of irrelevant columns\")\n",
    "#     plt.title(\"Irrelevant columns as a function of m\")\n",
    "#     plt.show()"
   ]
  },
  {
   "cell_type": "code",
   "execution_count": null,
   "metadata": {},
   "outputs": [],
   "source": []
  },
  {
   "cell_type": "code",
   "execution_count": null,
   "metadata": {},
   "outputs": [],
   "source": [
    "# tree_with_fixed_sample_size()"
   ]
  },
  {
   "cell_type": "code",
   "execution_count": null,
   "metadata": {},
   "outputs": [],
   "source": []
  },
  {
   "cell_type": "markdown",
   "metadata": {},
   "source": [
    "# End of 2 Pruning Decision Trees"
   ]
  },
  {
   "cell_type": "code",
   "execution_count": null,
   "metadata": {},
   "outputs": [],
   "source": []
  },
  {
   "cell_type": "code",
   "execution_count": null,
   "metadata": {},
   "outputs": [],
   "source": []
  },
  {
   "cell_type": "code",
   "execution_count": null,
   "metadata": {},
   "outputs": [],
   "source": [
    "m = list(range(10, 2000, 100))"
   ]
  },
  {
   "cell_type": "code",
   "execution_count": null,
   "metadata": {},
   "outputs": [],
   "source": [
    "m"
   ]
  },
  {
   "cell_type": "code",
   "execution_count": null,
   "metadata": {},
   "outputs": [],
   "source": [
    "def most_frequent(List): \n",
    "    return max(set(List), key = List.count) \n",
    "  \n"
   ]
  },
  {
   "cell_type": "code",
   "execution_count": null,
   "metadata": {},
   "outputs": [],
   "source": [
    "List = [2, 1, 2, 2, 1, 3] \n",
    "print(most_frequent(List)) "
   ]
  },
  {
   "cell_type": "code",
   "execution_count": null,
   "metadata": {},
   "outputs": [],
   "source": [
    "List.count"
   ]
  },
  {
   "cell_type": "code",
   "execution_count": null,
   "metadata": {},
   "outputs": [],
   "source": []
  }
 ],
 "metadata": {
  "kernelspec": {
   "display_name": "Python 3",
   "language": "python",
   "name": "python3"
  },
  "language_info": {
   "codemirror_mode": {
    "name": "ipython",
    "version": 3
   },
   "file_extension": ".py",
   "mimetype": "text/x-python",
   "name": "python",
   "nbconvert_exporter": "python",
   "pygments_lexer": "ipython3",
   "version": "3.7.6"
  }
 },
 "nbformat": 4,
 "nbformat_minor": 4
}
