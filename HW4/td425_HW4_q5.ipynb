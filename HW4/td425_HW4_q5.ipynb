{
 "cells": [
  {
   "cell_type": "markdown",
   "metadata": {},
   "source": [
    "# HW4: Answer 5"
   ]
  },
  {
   "cell_type": "markdown",
   "metadata": {},
   "source": [
    "### Import libs"
   ]
  },
  {
   "cell_type": "code",
   "execution_count": 1,
   "metadata": {},
   "outputs": [],
   "source": [
    "import numpy as np"
   ]
  },
  {
   "cell_type": "markdown",
   "metadata": {},
   "source": [
    "### Functions to Generate Xs and Y"
   ]
  },
  {
   "cell_type": "code",
   "execution_count": 2,
   "metadata": {},
   "outputs": [],
   "source": [
    "# gen X (m datapoints (1 Dim))\n",
    "def gen_X(m):\n",
    "    #https://numpy.org/doc/stable/reference/random/generated/numpy.random.uniform.html\n",
    "    X=np.random.uniform(low=100,high=102,size=m)    \n",
    "    return X"
   ]
  },
  {
   "cell_type": "code",
   "execution_count": 3,
   "metadata": {},
   "outputs": [],
   "source": [
    "# gen Y/target/labels/output\n",
    "def gen_Y(X,w,b,variance):\n",
    "    Y=np.empty((np.shape(X)[0]))\n",
    "    \n",
    "    for i in range(np.shape(Y)[0]):\n",
    "        #https://numpy.org/doc/stable/reference/random/generated/numpy.random.normal.html\n",
    "        #scale takes std. dev. hence we have to sqrt the variance\n",
    "        Y[i]=X[i]*w + b + np.random.normal(loc=0, scale=pow(variance,0.5))\n",
    "    \n",
    "    return Y"
   ]
  },
  {
   "cell_type": "code",
   "execution_count": 4,
   "metadata": {},
   "outputs": [],
   "source": [
    "# gen new X i.e. X' (m datapoints (1 Dim))\n",
    "def gen_X_dash(X):\n",
    "    X_dash=np.empty((np.shape(X)[0]))\n",
    "    \n",
    "    for i in range(np.shape(X_dash)[0]):\n",
    "        X_dash[i] = X[i] - 101\n",
    "    \n",
    "    return X_dash"
   ]
  },
  {
   "cell_type": "markdown",
   "metadata": {},
   "source": [
    "### Helper functions"
   ]
  },
  {
   "cell_type": "code",
   "execution_count": 5,
   "metadata": {},
   "outputs": [],
   "source": [
    "def compute_w_and_b(X, Y):\n",
    "    #https://numpy.org/doc/stable/reference/generated/numpy.cov.html\n",
    "    #https://stackoverflow.com/questions/15317822/calculating-covariance-with-python-and-numpy\n",
    "    \n",
    "    #w_hat=Cov(x,y)/Var(x) ... proven in Answer 1\n",
    "    w=(np.cov(X, Y, bias=True)[0][1])/np.var(X)\n",
    "        \n",
    "    #b_hat=y_mean-w_hat*x_mean ... equation (3)        \n",
    "    b=np.mean(Y)-w*np.mean(X)\n",
    "    \n",
    "    return w, b"
   ]
  },
  {
   "cell_type": "code",
   "execution_count": 6,
   "metadata": {},
   "outputs": [],
   "source": [
    "def sim(m, w, b, variance, iters=1000):\n",
    "    w_hat_list = []\n",
    "    b_hat_list = []\n",
    "    w_hat_dash_list = []\n",
    "    b_hat_dash_list = []\n",
    "    for i in range(iters):\n",
    "        X=gen_X(m)\n",
    "        Y=gen_Y(X,w,b,variance)\n",
    "        X_dash=gen_X_dash(X)        \n",
    "        \n",
    "        w_hat, b_hat = compute_w_and_b(X, Y)        \n",
    "        w_hat_list.append(w_hat)\n",
    "        b_hat_list.append(b_hat)\n",
    "        \n",
    "        w_hat_dash, b_hat_dash = compute_w_and_b(X_dash, Y)\n",
    "        w_hat_dash_list.append(w_hat_dash)\n",
    "        b_hat_dash_list.append(b_hat_dash)\n",
    "\n",
    "    print(\"Expected value of w_hat: \",np.mean(w_hat_list))\n",
    "    print(\"Expected value of w_hat_dash: \",np.mean(w_hat_dash_list))\n",
    "    print(\"Expected value of b_hat: \",np.mean(b_hat_list))\n",
    "    print(\"Expected value of b_hat_dash: \",np.mean(b_hat_dash_list))\n",
    "    \n",
    "    print(\"Variance of w_hat: \",np.var(w_hat_list))\n",
    "    print(\"Variance of w_hat_dash: \",np.var(w_hat_dash_list))\n",
    "    print(\"Variance of b_hat: \",np.var(b_hat_list))\n",
    "    print(\"Variance of b_hat_dash: \",np.var(b_hat_dash_list))"
   ]
  },
  {
   "cell_type": "markdown",
   "metadata": {},
   "source": [
    "### Running the sim"
   ]
  },
  {
   "cell_type": "code",
   "execution_count": 7,
   "metadata": {},
   "outputs": [
    {
     "name": "stdout",
     "output_type": "stream",
     "text": [
      "Expected value of w_hat:  0.9992755677311141\n",
      "Expected value of w_hat_dash:  0.9992755677311141\n",
      "Expected value of b_hat:  5.073986070712128\n",
      "Expected value of b_hat_dash:  106.00081841155465\n",
      "Variance of w_hat:  0.0014223909752099425\n",
      "Variance of w_hat_dash:  0.001422390975209942\n",
      "Variance of b_hat:  14.507076122741873\n",
      "Variance of b_hat_dash:  0.0005121436831699113\n"
     ]
    }
   ],
   "source": [
    "m=200 \n",
    "w=1 \n",
    "b=5 \n",
    "variance=0.1\n",
    "sim(m, w, b, variance, 1000)"
   ]
  },
  {
   "cell_type": "code",
   "execution_count": null,
   "metadata": {},
   "outputs": [],
   "source": []
  }
 ],
 "metadata": {
  "kernelspec": {
   "display_name": "Python 3",
   "language": "python",
   "name": "python3"
  },
  "language_info": {
   "codemirror_mode": {
    "name": "ipython",
    "version": 3
   },
   "file_extension": ".py",
   "mimetype": "text/x-python",
   "name": "python",
   "nbconvert_exporter": "python",
   "pygments_lexer": "ipython3",
   "version": "3.7.6"
  }
 },
 "nbformat": 4,
 "nbformat_minor": 4
}
